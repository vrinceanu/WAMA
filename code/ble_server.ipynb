{
 "cells": [
  {
   "cell_type": "code",
   "execution_count": null,
   "id": "68a7ddee-1532-455c-9f91-e1ded7844026",
   "metadata": {},
   "outputs": [],
   "source": [
    "import asyncio\n",
    "UART_TX_CHAR_UUID = \"6E400003-B5A3-F393-E0A9-E50E24DCCA9E\""
   ]
  },
  {
   "cell_type": "code",
   "execution_count": null,
   "id": "1461672c-afa1-49cc-9210-25a2f84a547e",
   "metadata": {},
   "outputs": [],
   "source": []
  }
 ],
 "metadata": {
  "kernelspec": {
   "display_name": "Python 3 (ipykernel)",
   "language": "python",
   "name": "python3"
  },
  "language_info": {
   "codemirror_mode": {
    "name": "ipython",
    "version": 3
   },
   "file_extension": ".py",
   "mimetype": "text/x-python",
   "name": "python",
   "nbconvert_exporter": "python",
   "pygments_lexer": "ipython3",
   "version": "3.11.10"
  }
 },
 "nbformat": 4,
 "nbformat_minor": 5
}
