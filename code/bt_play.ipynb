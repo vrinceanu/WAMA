{
 "cells": [
  {
   "cell_type": "code",
   "execution_count": 1,
   "id": "c3b90536-7c1b-426f-a51b-2f58ad3b2f00",
   "metadata": {},
   "outputs": [],
   "source": [
    "import asyncio\n",
    "from bleak import BleakScanner\n",
    "from bleak import BleakClient"
   ]
  },
  {
   "cell_type": "code",
   "execution_count": 2,
   "id": "3b13a9c5-7495-4ac0-b00e-9018ba7753c0",
   "metadata": {},
   "outputs": [],
   "source": [
    "UART_SERVICE_UUID = \"6E400001-B5A3-F393-E0A9-E50E24DCCA9E\"\n",
    "UART_RX_CHAR_UUID = \"6E400002-B5A3-F393-E0A9-E50E24DCCA9E\"\n",
    "UART_TX_CHAR_UUID = \"6E400003-B5A3-F393-E0A9-E50E24DCCA9E\"\n",
    "\n",
    "start = datetime.datetime.now()\n",
    "\n",
    "with open(\"static/db_file.csv\",\"w\") as file:\n",
    "    file.write(\"# \")\n",
    "    file.write(start.isoformat())\n",
    "    file.write(\"\\n\")"
   ]
  },
  {
   "cell_type": "code",
   "execution_count": 2,
   "id": "6d25ef83-4533-4e15-b457-442e9c7e1bfe",
   "metadata": {},
   "outputs": [],
   "source": [
    "device = await BleakScanner.find_device_by_name(\"UART Service\")"
   ]
  },
  {
   "cell_type": "code",
   "execution_count": 3,
   "id": "a9d2d13e-9008-4b13-8696-2351f4adf8eb",
   "metadata": {},
   "outputs": [
    {
     "data": {
      "text/plain": [
       "BLEDevice(D77450E0-B097-2719-A036-B77E03F58860, UART Service)"
      ]
     },
     "execution_count": 3,
     "metadata": {},
     "output_type": "execute_result"
    }
   ],
   "source": [
    "device"
   ]
  },
  {
   "cell_type": "code",
   "execution_count": 3,
   "id": "bfb4438c-107c-4326-9bb4-24359ee480d7",
   "metadata": {},
   "outputs": [],
   "source": [
    "async def uart_server():\t\n",
    "\tdevice = await BleakScanner.find_device_by_name(\"UART Service\")\n",
    "    \n",
    "\tif device is None:\n",
    "\t\tprint(\"no UART matching device found\")\n",
    "\t\tsys.exit(1)\t\n",
    "\n",
    "\tdef handle_disconnect(_: BleakClient):\n",
    "\t\tprint(\"Device was disconnected, goodbye.\")\n",
    "\t\tfor task in asyncio.all_tasks():\n",
    "\t\t\ttask.cancel()\n",
    "\n",
    "\tdef handle_rx(_: BleakGATTCharacteristic, data: bytearray):\n",
    "\t\tprint(\"received:\", data)\n",
    "\t\tnow = datetime.datetime.now()\n",
    "\t\trec = str((now-start).seconds) + \",\"+str(data.decode()).strip()\n",
    "\t\twith open(\"static/db_file.csv\",\"a\") as file:\n",
    "\t\t\tfile.write(rec)\n",
    "\t\t\tfile.write(\"\\n\")\n",
    "\t\t\t\n",
    "\tasync with BleakClient(device, disconnected_callback=handle_disconnect) as client:\n",
    "\t\tawait client.start_notify(UART_TX_CHAR_UUID, handle_rx)\n",
    "\t\twhile True:\n",
    "\t\t\tawait asyncio.sleep(2)"
   ]
  },
  {
   "cell_type": "code",
   "execution_count": 4,
   "id": "ce1dbe3c-0dbf-4ea9-9201-8911aecee5bb",
   "metadata": {},
   "outputs": [],
   "source": [
    "devices = await discover()"
   ]
  },
  {
   "cell_type": "code",
   "execution_count": 5,
   "id": "eb2f0b9e-64c0-4bda-9e5e-b00d69b411c8",
   "metadata": {},
   "outputs": [],
   "source": [
    "for d in devices:\n",
    "    if d.name == \"UART Service\":\n",
    "        device = d"
   ]
  },
  {
   "cell_type": "code",
   "execution_count": 6,
   "id": "d1553bf1-6f35-4d52-a38f-c984e5ad36d4",
   "metadata": {},
   "outputs": [
    {
     "data": {
      "text/plain": [
       "BLEDevice(D77450E0-B097-2719-A036-B77E03F58860, UART Service)"
      ]
     },
     "execution_count": 6,
     "metadata": {},
     "output_type": "execute_result"
    }
   ],
   "source": [
    "device"
   ]
  },
  {
   "cell_type": "code",
   "execution_count": null,
   "id": "9ccd219b-dfbc-4bb4-a8fb-33743fb6d704",
   "metadata": {},
   "outputs": [],
   "source": [
    "await read_characteristic(device.address)"
   ]
  }
 ],
 "metadata": {
  "kernelspec": {
   "display_name": "Python 3 (ipykernel)",
   "language": "python",
   "name": "python3"
  },
  "language_info": {
   "codemirror_mode": {
    "name": "ipython",
    "version": 3
   },
   "file_extension": ".py",
   "mimetype": "text/x-python",
   "name": "python",
   "nbconvert_exporter": "python",
   "pygments_lexer": "ipython3",
   "version": "3.11.10"
  }
 },
 "nbformat": 4,
 "nbformat_minor": 5
}
